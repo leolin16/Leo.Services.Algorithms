{
 "nbformat": 4,
 "nbformat_minor": 2,
 "metadata": {
  "language_info": {
   "name": "python",
   "codemirror_mode": {
    "name": "ipython",
    "version": 3
   },
   "version": "3.7.1"
  },
  "orig_nbformat": 2,
  "file_extension": ".py",
  "mimetype": "text/x-python",
  "name": "python",
  "npconvert_exporter": "python",
  "pygments_lexer": "ipython3",
  "version": 3
 },
 "cells": [
  {
   "cell_type": "code",
   "execution_count": 2,
   "metadata": {},
   "outputs": [],
   "source": [
    "from collections import deque\n",
    "from random import randint"
   ]
  },
  {
   "cell_type": "markdown",
   "execution_count": null,
   "metadata": {},
   "outputs": [],
   "source": [
    "### method 1: trivial O(n$^2$) solution"
   ]
  },
  {
   "cell_type": "code",
   "execution_count": 9,
   "metadata": {},
   "outputs": [],
   "source": [
    "def trivial(array, length):\n",
    "    maximum = min(array[:length]) # starting from the first element with length in consecutive style\n",
    "    for i in range(len(array)-length+1):\n",
    "        minimum = min(array[i:i+length])\n",
    "        maximum = max(maximum, minimum)\n",
    "    return maximum"
   ]
  },
  {
   "cell_type": "markdown",
   "execution_count": null,
   "metadata": {},
   "outputs": [],
   "source": [
    "## method 2: Deque - please understand the difference among Stack(first in last out), Queue(first in first out) & Deque(double ended queue: first in first/last out)"
   ]
  },
  {
   "cell_type": "code",
   "execution_count": 11,
   "metadata": {},
   "outputs": [],
   "source": [
    "def with_deque(array, length):\n",
    "    maximum = min(array[:length])\n",
    "    d= deque()\n",
    "    d.append(0)\n",
    "    for i in range(len(array)):\n",
    "        if i - d[0] == length:\n",
    "            d.popleft()\n",
    "        while len(d) and array[d[-1]] >= array[i]:\n",
    "            d.pop()\n",
    "        if i >= length:\n",
    "            maximum = max(maximum, array[d[0]])\n",
    "    return maximum"
   ]
  },
  {
   "cell_type": "code",
   "execution_count": null,
   "metadata": {},
   "outputs": [],
   "source": [
    "# tests\n"
   ]
  }
 ]
}