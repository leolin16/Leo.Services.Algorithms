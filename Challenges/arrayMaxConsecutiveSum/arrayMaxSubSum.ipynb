{
 "nbformat": 4,
 "nbformat_minor": 2,
 "metadata": {
  "language_info": {
   "name": "python",
   "codemirror_mode": {
    "name": "ipython",
    "version": 3
   },
   "version": "3.7.1"
  },
  "orig_nbformat": 2,
  "file_extension": ".py",
  "mimetype": "text/x-python",
  "name": "python",
  "npconvert_exporter": "python",
  "pygments_lexer": "ipython3",
  "version": 3
 },
 "cells": [
  {
   "cell_type": "code",
   "execution_count": 5,
   "metadata": {},
   "outputs": [],
   "source": [
    "# three for loops\n",
    "def three_loops(array):\n",
    "    n = len(array)\n",
    "    max_sum = array[0]\n",
    "    for start in range(n):\n",
    "        for end in range(start, n):\n",
    "            current_sum = sum(array[start:end+1])\n",
    "            if current_sum > max_sum:\n",
    "                max_sum = current_sum\n",
    "    return max_sum\n"
   ]
  },
  {
   "cell_type": "code",
   "execution_count": 6,
   "metadata": {},
   "outputs": [],
   "source": [
    "# two for loops\n",
    "def two_loops(array):\n",
    "    n = len(array)\n",
    "    max_sum = array[0]\n",
    "    for start in range(n):\n",
    "        current_sum = 0\n",
    "        for end in range(start, n):\n",
    "            current_sum += array[end] # update the current sum as we go\n",
    "            if current_sum > max_sum:\n",
    "                max_sum = current_sum\n",
    "    return max_sum"
   ]
  },
  {
   "cell_type": "code",
   "execution_count": 7,
   "metadata": {},
   "outputs": [],
   "source": [
    "# single loop\n",
    "def one_loop(array):\n",
    "    n = len(array)\n",
    "    max_sum = array[0]\n",
    "    current_sum = array[0]\n",
    "    for i in range(1, n):\n",
    "        current_sum = max(current_sum + array[i], array[i]) # to calculate the max sum of the current position or possible consecutive series in one shot\n",
    "        max_sum = max(max_sum, current_sum) # to compare position by position and pick the maximum consecutive sum max\n",
    "    return max_sum"
   ]
  },
  {
   "cell_type": "code",
   "execution_count": 13,
   "metadata": {},
   "outputs": [],
   "source": [
    "# tests\n",
    "arr1 = [3,4,-9,1,2]\n",
    "arr2 = [1,2,3]\n",
    "arr3 = [-1,-2,-3]\n",
    "assert three_loops(arr1) == two_loops(arr1)\n",
    "assert three_loops(arr2) == two_loops(arr2)\n",
    "assert three_loops(arr3) == two_loops(arr3)\n",
    "assert one_loop(arr1) == two_loops(arr1)\n",
    "assert one_loop(arr2) == two_loops(arr2)\n",
    "assert one_loop(arr3) == two_loops(arr3)"
   ]
  },
  {
   "cell_type": "code",
   "execution_count": null,
   "metadata": {},
   "outputs": [],
   "source": []
  }
 ]
}