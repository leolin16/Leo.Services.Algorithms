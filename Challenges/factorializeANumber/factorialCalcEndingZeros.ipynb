{
 "nbformat": 4,
 "nbformat_minor": 2,
 "metadata": {
  "language_info": {
   "name": "python",
   "codemirror_mode": {
    "name": "ipython",
    "version": 3
   },
   "version": "3.7.1"
  },
  "orig_nbformat": 2,
  "file_extension": ".py",
  "mimetype": "text/x-python",
  "name": "python",
  "npconvert_exporter": "python",
  "pygments_lexer": "ipython3",
  "version": 3
 },
 "cells": [
  {
   "cell_type": "markdown",
   "execution_count": null,
   "metadata": {},
   "outputs": [],
   "source": [
    "## Factorial with a given number and calc zeros\n",
    "    n! = 1*2*3*...*(n-1)*n\n",
    "    0! = 1\n",
    "    zeros(5) = 1(120), zeros(100)=24\n",
    "    to find smallest n s.t. zeros(n) = num_zeros\n",
    "\n",
    "0 = 2\\*5, 00 = 2$^2$\\*5$^2$ => calculate factors of 2 and 5(since 2 is more than 5, calc 5 is enough)\n",
    "\n",
    "zeros(n) = $\\frac{n}{5} + \\frac{n}{5^2} + ...$ eg: 25 has 5 5, experiencing 5,10,15,20,25, and 25 itself got 2 5, thus 6 zeros expected"
   ]
  },
  {
   "cell_type": "code",
   "execution_count": 10,
   "metadata": {},
   "outputs": [],
   "source": [
    "# to find smallest n s.t. zeros(n) = num_zeros\n",
    "def zeros(n):\n",
    "    num_zeros = 0\n",
    "    while n:\n",
    "        num_zeros += n // 5 # floor dividing\n",
    "        n //= 5\n",
    "    return num_zeros"
   ]
  },
  {
   "cell_type": "code",
   "execution_count": 11,
   "metadata": {},
   "outputs": [],
   "source": [
    "def linear_search(num_zeros):\n",
    "    n = 0\n",
    "    while zeros(n) < num_zeros:\n",
    "        n += 1\n",
    "    if zeros(n) == num_zeros:\n",
    "        return n\n",
    "    return None"
   ]
  },
  {
   "cell_type": "code",
   "execution_count": 12,
   "metadata": {},
   "outputs": [],
   "source": [
    "def binary_search(num_zeros):\n",
    "    left = 0\n",
    "    right = 5 * num_zeros\n",
    "    while left < right:\n",
    "        middle = (left + right) // 2\n",
    "        if zeros(middle) < num_zeros:\n",
    "            left = middle + 1\n",
    "        else:\n",
    "            right = middle # since the middle is floor value, the right side as middle could be ok without worrying about infinite while\n",
    "    if zeros(left) == num_zeros:\n",
    "        return left # final state shall always be left = right, thus returning either left or right\n",
    "    return None"
   ]
  },
  {
   "cell_type": "code",
   "execution_count": 13,
   "metadata": {},
   "outputs": [
    {
     "name": "stdout",
     "output_type": "stream",
     "text": "0 0\n1 5\n2 10\n3 15\n4 20\n5 None\n6 25\n7 30\n8 35\n9 40\n10 45\n11 None\n12 50\n13 55\n14 60\n15 65\n16 70\n17 None\n18 75\n19 80\n20 85\n21 90\n22 95\n23 None\n24 100\n25 105\n26 110\n27 115\n28 120\n29 None\n30 None\n31 125\n32 130\n33 135\n34 140\n35 145\n36 None\n37 150\n38 155\n39 160\n40 165\n41 170\n42 None\n43 175\n44 180\n45 185\n46 190\n47 195\n48 None\n49 200\n50 205\n51 210\n52 215\n53 220\n54 None\n55 225\n56 230\n57 235\n58 240\n59 245\n60 None\n61 None\n62 250\n63 255\n64 260\n65 265\n66 270\n67 None\n68 275\n69 280\n70 285\n71 290\n72 295\n73 None\n74 300\n75 305\n76 310\n77 315\n78 320\n79 None\n80 325\n81 330\n82 335\n83 340\n84 345\n85 None\n86 350\n87 355\n88 360\n89 365\n90 370\n91 None\n92 None\n93 375\n94 380\n95 385\n96 390\n97 395\n98 None\n99 400\n100 405\n"
    }
   ],
   "source": [
    "# tests\n",
    "for i in range(101):\n",
    "    print(i, binary_search(i))\n",
    "    assert binary_search(i) == linear_search(i)"
   ]
  },
  {
   "cell_type": "code",
   "execution_count": null,
   "metadata": {},
   "outputs": [],
   "source": []
  }
 ]
}